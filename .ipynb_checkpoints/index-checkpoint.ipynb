{
 "cells": [
  {
   "cell_type": "markdown",
   "metadata": {},
   "source": [
    "# Stand down activitiy\n",
    "\n",
    "Slack back your notebook by 6 EDT.  Don't worry if you if you don't complete it. Do as much as you can, and Slack it back."
   ]
  },
  {
   "cell_type": "markdown",
   "metadata": {},
   "source": [
    "Consider the following matrix `X` representing 100 records each with three features."
   ]
  },
  {
   "cell_type": "code",
   "execution_count": 1,
   "metadata": {},
   "outputs": [],
   "source": [
    "import numpy as np\n",
    "from numpy.random import normal\n",
    "\n",
    "np.random.seed(42)\n",
    "\n",
    "feature_1 = normal(0,1,100)\n",
    "feature_2 = normal(1,1,100)\n",
    "feature_3 = normal(2,1,100)\n",
    "\n",
    "X = np.array([feature_1, feature_2, feature_3]).T"
   ]
  },
  {
   "cell_type": "markdown",
   "metadata": {},
   "source": [
    "We have a continuous label `y` which we assume has an index which aligns with the X matrix above."
   ]
  },
  {
   "cell_type": "code",
   "execution_count": 2,
   "metadata": {},
   "outputs": [],
   "source": [
    "y = np.random.uniform(-100,100,100)"
   ]
  },
  {
   "cell_type": "markdown",
   "metadata": {},
   "source": [
    "# Task 1\n",
    "Fit a linear regression model on X and y. "
   ]
  },
  {
   "cell_type": "code",
   "execution_count": 3,
   "metadata": {},
   "outputs": [
    {
     "data": {
      "text/plain": [
       "LinearRegression()"
      ]
     },
     "execution_count": 3,
     "metadata": {},
     "output_type": "execute_result"
    }
   ],
   "source": [
    "from sklearn.linear_model import LinearRegression\n",
    "\n",
    "# your code here\n",
    "linreg = LinearRegression()\n",
    "linreg.fit(X, y)"
   ]
  },
  {
   "cell_type": "markdown",
   "metadata": {},
   "source": [
    "# Task 2 \n",
    "Use the predict method of the fit linear regression to create a set of predictions `y_hat`.   \n",
    "Then pass those predictions into the mean_squared_error function from sklearn metrics and store in `mse`."
   ]
  },
  {
   "cell_type": "code",
   "execution_count": 4,
   "metadata": {},
   "outputs": [],
   "source": [
    "from sklearn.metrics import mean_squared_error\n",
    "\n",
    "y_hat = linreg.predict(X)\n",
    "mse = mean_squared_error(y, y_hat)"
   ]
  },
  {
   "cell_type": "code",
   "execution_count": 5,
   "metadata": {},
   "outputs": [],
   "source": [
    "assert mse == 3792.519308945476"
   ]
  },
  {
   "cell_type": "markdown",
   "metadata": {},
   "source": [
    "Print out the `coef_` and `intercept_` attributes now stored in the `lr` object"
   ]
  },
  {
   "cell_type": "code",
   "execution_count": 6,
   "metadata": {},
   "outputs": [
    {
     "name": "stdout",
     "output_type": "stream",
     "text": [
      "coef: [1.43423359 5.51082422 6.07588211]\n",
      "intercept: -11.850831117732099\n"
     ]
    }
   ],
   "source": [
    "# take a peek at the coefficients and intercept\n",
    "print(f'coef: {linreg.coef_}')\n",
    "print(f'intercept: {linreg.intercept_}')"
   ]
  },
  {
   "cell_type": "markdown",
   "metadata": {},
   "source": [
    "# Task 3\n",
    "Lastly, recreate the predictions `y_hat` by taking the dot product of the X matrix and the coef_ array, and adding the intercept_ term.  \n",
    "Feed those predictions into the mean_squared_error function.  \n",
    "**Hint** X is an ndarray, so you can use the .dot() method chained off its end."
   ]
  },
  {
   "cell_type": "code",
   "execution_count": 7,
   "metadata": {},
   "outputs": [],
   "source": [
    "# Replace None with your code\n",
    "y_hat_by_hand = X.dot(linreg.coef_) + linreg.intercept_\n",
    "mse_by_hand = mean_squared_error(y, y_hat_by_hand)"
   ]
  },
  {
   "cell_type": "markdown",
   "metadata": {},
   "source": [
    "Confirm that your by hand predictions are the same as the result of the predict method using the assert statement below."
   ]
  },
  {
   "cell_type": "code",
   "execution_count": 8,
   "metadata": {},
   "outputs": [],
   "source": [
    "assert mse == mse_by_hand"
   ]
  }
 ],
 "metadata": {
  "kernelspec": {
   "display_name": "Python (learn-env)",
   "language": "python",
   "name": "learn-env"
  },
  "language_info": {
   "codemirror_mode": {
    "name": "ipython",
    "version": 3
   },
   "file_extension": ".py",
   "mimetype": "text/x-python",
   "name": "python",
   "nbconvert_exporter": "python",
   "pygments_lexer": "ipython3",
   "version": "3.8.5"
  }
 },
 "nbformat": 4,
 "nbformat_minor": 5
}
